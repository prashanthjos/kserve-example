{
 "cells": [
  {
   "cell_type": "markdown",
   "metadata": {},
   "source": [
    "# Building and Running the Fraud Detection Pipeline\n",
    "\n",
    "In this notebook, we'll build and run a Kubeflow Pipeline to train our fraud detection model."
   ]
  },
  {
   "cell_type": "code",
   "execution_count": 1,
   "metadata": {},
   "outputs": [
    {
     "name": "stdout",
     "output_type": "stream",
     "text": [
      "Added /Users/prashanth.chaitanya/git-workspaces/kubeflow/kserve-example to Python path\n"
     ]
    }
   ],
   "source": [
    "import sys\n",
    "import os\n",
    "\n",
    "# Add the project root directory to Python path\n",
    "project_root = os.path.abspath(os.path.join(os.getcwd(), '..'))  # Adjust if needed\n",
    "if project_root not in sys.path:\n",
    "    sys.path.append(project_root)\n",
    "    print(f\"Added {project_root} to Python path\")"
   ]
  },
  {
   "cell_type": "code",
   "execution_count": 2,
   "metadata": {},
   "outputs": [],
   "source": [
    "# Import required libraries\n",
    "import kfp\n",
    "import pandas as pd\n",
    "import os\n",
    "import numpy as np"
   ]
  },
  {
   "cell_type": "markdown",
   "metadata": {},
   "source": [
    "## Compile and Run the Pipeline"
   ]
  },
  {
   "cell_type": "code",
   "execution_count": 3,
   "metadata": {},
   "outputs": [
    {
     "name": "stdout",
     "output_type": "stream",
     "text": [
      "Pipeline compiled to fraud_detection_pipeline.yaml\n"
     ]
    }
   ],
   "source": [
    "# Import our pipeline\n",
    "from src.pipeline.pipeline import fraud_detection_pipeline\n",
    "\n",
    "# Compile the pipeline\n",
    "pipeline_func = fraud_detection_pipeline\n",
    "pipeline_filename = \"fraud_detection_pipeline.yaml\"\n",
    "kfp.compiler.Compiler().compile(pipeline_func, pipeline_filename)\n",
    "\n",
    "print(f\"Pipeline compiled to {pipeline_filename}\")"
   ]
  },
  {
   "cell_type": "code",
   "execution_count": null,
   "metadata": {},
   "outputs": [
    {
     "name": "stderr",
     "output_type": "stream",
     "text": [
      "/Users/prashanth.chaitanya/git-workspaces/kubeflow/kserve-example/.venv/lib/python3.9/site-packages/kfp/client/client.py:159: FutureWarning: This client only works with Kubeflow Pipeline v2.0.0-beta.2 and later versions.\n",
      "  warnings.warn(\n"
     ]
    },
    {
     "data": {
      "text/html": [
       "<a href=\"http://localhost:8080/pipeline/#/experiments/details/6e1dd4fa-2e26-47f2-862b-4cbb00f93bfc\" target=\"_blank\" >Experiment details</a>."
      ],
      "text/plain": [
       "<IPython.core.display.HTML object>"
      ]
     },
     "metadata": {},
     "output_type": "display_data"
    },
    {
     "data": {
      "text/html": [
       "<a href=\"http://localhost:8080/pipeline/#/runs/details/49400767-d68d-4697-87b2-16f1956b1a39\" target=\"_blank\" >Run details</a>."
      ],
      "text/plain": [
       "<IPython.core.display.HTML object>"
      ]
     },
     "metadata": {},
     "output_type": "display_data"
    },
    {
     "name": "stdout",
     "output_type": "stream",
     "text": [
      "Pipeline run submitted with ID: 49400767-d68d-4697-87b2-16f1956b1a39\n"
     ]
    }
   ],
   "source": [
    "from src.client.client_manager import KFPClientManager\n",
    "\n",
    "# initialize a KFPClientManager\n",
    "kfp_client_manager = KFPClientManager(\n",
    "    api_url=\"http://localhost:8080/pipeline\",\n",
    "    skip_tls_verify=True,\n",
    "\n",
    "    dex_username=\"user@example.com\",\n",
    "    dex_password=\"12341234\",\n",
    "\n",
    "    # can be 'ldap' or 'local' depending on your Dex configuration\n",
    "    dex_auth_type=\"local\",\n",
    ")\n",
    "\n",
    "# get a newly authenticated KFP client\n",
    "# TIP: long-lived sessions might need to get a new client when their session expires\n",
    "kfp_client = kfp_client_manager.create_kfp_client()\n",
    "\n",
    "# Create an experiment\n",
    "experiment_name = \"fraud-detection-kserve\"\n",
    "experiment = kfp_client.create_experiment(name=experiment_name, namespace=\"kubeflow-user-example-com\")\n",
    "\n",
    "# Submit the pipeline run\n",
    "run = kfp_client.create_run_from_pipeline_package(\n",
    "    experiment_id=experiment.experiment_id,\n",
    "    run_name=\"fraud-detection-training\",\n",
    "    pipeline_file=pipeline_filename,\n",
    "    arguments={\n",
    "        \"model_name\": \"fraud-detection\",\n",
    "        \"model_version\": \"v6\"\n",
    "    }\n",
    ")\n",
    "\n",
    "print(f\"Pipeline run submitted with ID: {run.run_id}\")"
   ]
  },
  {
   "cell_type": "markdown",
   "metadata": {},
   "source": [
    "## Monitor the Pipeline Run"
   ]
  },
  {
   "cell_type": "code",
   "execution_count": 5,
   "metadata": {},
   "outputs": [
    {
     "name": "stdout",
     "output_type": "stream",
     "text": [
      "Pipeline status: PENDING\n"
     ]
    }
   ],
   "source": [
    "# Get pipeline run status\n",
    "run_details = kfp_client.get_run(run.run_id)\n",
    "print(f\"Pipeline status: {run_details.state}\")"
   ]
  }
 ],
 "metadata": {
  "kernelspec": {
   "display_name": ".venv",
   "language": "python",
   "name": "python3"
  },
  "language_info": {
   "codemirror_mode": {
    "name": "ipython",
    "version": 3
   },
   "file_extension": ".py",
   "mimetype": "text/x-python",
   "name": "python",
   "nbconvert_exporter": "python",
   "pygments_lexer": "ipython3",
   "version": "3.9.6"
  }
 },
 "nbformat": 4,
 "nbformat_minor": 4
}
