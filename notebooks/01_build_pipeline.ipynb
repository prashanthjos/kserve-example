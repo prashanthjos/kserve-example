{
 "cells": [
  {
   "cell_type": "markdown",
   "metadata": {},
   "source": [
    "# Building and Running the Fraud Detection Pipeline\n",
    "\n",
    "In this notebook, we'll build and run a Kubeflow Pipeline to train our fraud detection model."
   ]
  },
  {
   "cell_type": "code",
   "execution_count": 1,
   "metadata": {},
   "outputs": [
    {
     "name": "stdout",
     "output_type": "stream",
     "text": [
      "Added /Users/prashanth.chaitanya/git-workspaces/kubeflow/kserve-example to Python path\n"
     ]
    }
   ],
   "source": [
    "import sys\n",
    "import os\n",
    "\n",
    "# Add the project root directory to Python path\n",
    "project_root = os.path.abspath(os.path.join(os.getcwd(), '..'))  # Adjust if needed\n",
    "if project_root not in sys.path:\n",
    "    sys.path.append(project_root)\n",
    "    print(f\"Added {project_root} to Python path\")"
   ]
  },
  {
   "cell_type": "code",
   "execution_count": 2,
   "metadata": {},
   "outputs": [],
   "source": [
    "# Import required libraries\n",
    "import kfp\n",
    "import pandas as pd\n",
    "import os\n",
    "import numpy as np"
   ]
  },
  {
   "cell_type": "markdown",
   "metadata": {},
   "source": [
    "## Compile and Run the Pipeline"
   ]
  },
  {
   "cell_type": "code",
   "execution_count": 3,
   "metadata": {},
   "outputs": [
    {
     "name": "stdout",
     "output_type": "stream",
     "text": [
      "Pipeline compiled to fraud_detection_pipeline.yaml\n"
     ]
    }
   ],
   "source": [
    "# Import our pipeline\n",
    "from src.pipeline.pipeline import fraud_detection_pipeline\n",
    "\n",
    "# Compile the pipeline\n",
    "pipeline_func = fraud_detection_pipeline\n",
    "pipeline_filename = \"fraud_detection_pipeline.yaml\"\n",
    "kfp.compiler.Compiler().compile(pipeline_func, pipeline_filename)\n",
    "\n",
    "print(f\"Pipeline compiled to {pipeline_filename}\")"
   ]
  },
  {
   "cell_type": "code",
   "execution_count": null,
   "metadata": {},
   "outputs": [],
   "source": [
    "from src.client.client_manager import KFPClientManager\n",
    "\n",
    "# initialize a KFPClientManager\n",
    "kfp_client_manager = KFPClientManager(\n",
    "    api_url=\"http://localhost:8080/pipeline\",\n",
    "    skip_tls_verify=True,\n",
    "\n",
    "    dex_username=\"user@example.com\",\n",
    "    dex_password=\"12341234\",\n",
    "\n",
    "    # can be 'ldap' or 'local' depending on your Dex configuration\n",
    "    dex_auth_type=\"local\",\n",
    ")\n",
    "\n",
    "# get a newly authenticated KFP client\n",
    "# TIP: long-lived sessions might need to get a new client when their session expires\n",
    "kfp_client = kfp_client_manager.create_kfp_client()\n",
    "\n",
    "# Create an experiment\n",
    "experiment_name = \"fraud-detection-kserve\"\n",
    "experiment = kfp_client.create_experiment(name=experiment_name, namespace=\"kubeflow-user-example-com\")\n",
    "\n",
    "# Submit the pipeline run\n",
    "run = kfp_client.run_pipeline(\n",
    "    experiment_id=experiment.experiment_id,\n",
    "    job_name=\"fraud-detection-training\",\n",
    "    pipeline_package_path=pipeline_filename,\n",
    "    params={\n",
    "        \"model_name\": \"fraud-detection\",\n",
    "        \"model_version\": \"v1\"\n",
    "    }\n",
    ")\n",
    "\n",
    "print(f\"Pipeline run submitted with ID: {run.experiment_id}\")"
   ]
  },
  {
   "cell_type": "markdown",
   "metadata": {},
   "source": [
    "## Monitor the Pipeline Run"
   ]
  },
  {
   "cell_type": "code",
   "execution_count": null,
   "metadata": {},
   "outputs": [],
   "source": [
    "# Get pipeline run status\n",
    "run_details = kfp_client.get_run(run.run_id)\n",
    "print(f\"Pipeline status: {run_details.state}\")"
   ]
  },
  {
   "cell_type": "markdown",
   "metadata": {},
   "source": [
    "## Examine Pipeline Artifacts"
   ]
  },
  {
   "cell_type": "code",
   "execution_count": null,
   "metadata": {},
   "outputs": [],
   "source": [
    "# List pipeline artifacts\n",
    "import kubernetes.client as k8s_client\n",
    "from kubernetes import config\n",
    "\n",
    "try:\n",
    "    config.load_incluster_config()\n",
    "except:\n",
    "    config.load_kube_config()\n",
    "\n",
    "# Create a Kubernetes API client\n",
    "api_client = k8s_client.ApiClient()\n",
    "pod_api = k8s_client.CoreV1Api(api_client)\n",
    "custom_api = k8s_client.CustomObjectsApi(api_client)\n",
    "\n",
    "# Get the model registry entry\n",
    "try:\n",
    "    model_registry = custom_api.get_namespaced_custom_object(\n",
    "        group=\"serving.kubeflow.org\",\n",
    "        version=\"v1alpha1\",\n",
    "        namespace=\"kubeflow\",\n",
    "        plural=\"trainedmodels\",\n",
    "        name=\"fraud-detection-v1\"\n",
    "    )\n",
    "    print(\"Model registry entry:\")\n",
    "    print(model_registry)\n",
    "except Exception as e:\n",
    "    print(f\"Error getting model registry: {e}\")"
   ]
  },
  {
   "cell_type": "markdown",
   "metadata": {},
   "source": [
    "## Visualize Model Performance"
   ]
  },
  {
   "cell_type": "code",
   "execution_count": null,
   "metadata": {},
   "outputs": [],
   "source": [
    "# Load model metrics (assuming we have access to the PVC)\n",
    "import json\n",
    "import matplotlib.pyplot as plt\n",
    "import seaborn as sns\n",
    "\n",
    "try:\n",
    "    # This assumes we're running within the cluster or have access to the metrics file\n",
    "    with open(\"/mnt/artifacts/fraud-detection/v1/metrics/metrics.json\", \"r\") as f:\n",
    "        metrics = json.load(f)\n",
    "        \n",
    "    print(\"Model Metrics:\")\n",
    "    for metric, value in metrics.items():\n",
    "        print(f\"{metric}: {value:.4f}\")\n",
    "    \n",
    "    # Plot metrics\n",
    "    plt.figure(figsize=(10, 6))\n",
    "    sns.barplot(x=list(metrics.keys()), y=list(metrics.values()))\n",
    "    plt.title(\"Fraud Detection Model Performance\")\n",
    "    plt.ylim(0, 1)\n",
    "    plt.show()\n",
    "    \n",
    "    # Load confusion matrix\n",
    "    confusion_matrix = pd.read_csv(\"/mnt/artifacts/fraud-detection/v1/metrics/confusion_matrix.csv\", index_col=0)\n",
    "    \n",
    "    # Plot confusion matrix\n",
    "    plt.figure(figsize=(8, 6))\n",
    "    sns.heatmap(confusion_matrix, annot=True, fmt=\"d\", cmap=\"Blues\")\n",
    "    plt.title(\"Confusion Matrix\")\n",
    "    plt.xlabel(\"Predicted\")\n",
    "    plt.ylabel(\"Actual\")\n",
    "    plt.show()\n",
    "    \n",
    "except Exception as e:\n",
    "    print(f\"Could not access metrics files: {e}\")\n",
    "    print(\"This is expected if running outside the Kubernetes cluster.\")\n",
    "    print(\"You can access metrics through the Kubeflow UI or by mounting the PVC.\")"
   ]
  },
  {
   "cell_type": "markdown",
   "metadata": {},
   "source": [
    "## Prepare for Model Deployment\n",
    "\n",
    "Now that our model is trained and registered, we can proceed to deploy it with KServe.\n",
    "Continue to the next notebook `02_deploy_model.ipynb` for deployment steps."
   ]
  }
 ],
 "metadata": {
  "kernelspec": {
   "display_name": ".venv",
   "language": "python",
   "name": "python3"
  },
  "language_info": {
   "codemirror_mode": {
    "name": "ipython",
    "version": 3
   },
   "file_extension": ".py",
   "mimetype": "text/x-python",
   "name": "python",
   "nbconvert_exporter": "python",
   "pygments_lexer": "ipython3",
   "version": "3.9.6"
  }
 },
 "nbformat": 4,
 "nbformat_minor": 4
}
